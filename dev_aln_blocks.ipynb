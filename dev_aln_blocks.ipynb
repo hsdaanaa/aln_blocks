{
 "cells": [
  {
   "cell_type": "code",
   "execution_count": null,
   "metadata": {},
   "outputs": [],
   "source": []
  },
  {
   "cell_type": "code",
   "execution_count": null,
   "metadata": {},
   "outputs": [],
   "source": []
  },
  {
   "cell_type": "code",
   "execution_count": 4,
   "metadata": {},
   "outputs": [],
   "source": [
    "import sys, os, numpy as np, pandas as pd\n",
    "sys.path.append('02_codes/modules')\n",
    "from seq_funcs import fasta_to_dict, get_codons, aln_to_df"
   ]
  },
  {
   "cell_type": "markdown",
   "metadata": {},
   "source": [
    "#### code"
   ]
  },
  {
   "cell_type": "code",
   "execution_count": 120,
   "metadata": {},
   "outputs": [],
   "source": [
    "# #!/usr/bin/python3\n",
    "#--------------------------Description---------------------------------\n",
    "\n",
    "#--------------------------Dependencies--------------------------------\n",
    "import sys, os, numpy as np, pandas as pd\n",
    "from seq_funcs import fasta_to_dict, get_codons, aln_to_df\n",
    "#------------------------------Codes-----------------------------------\n",
    "def get_aln_block_stats(path_to_fasta_aln, gap_char, verobse): \n",
    "    \"\"\"calculates statistics for aligned blocks in pairwise or multiple\n",
    "    sequence alignments\"\"\"\n",
    "\n",
    "    # add try and except \n",
    "        \n",
    "    file_name = os.path.basename(path_to_fasta_aln)\n",
    "\n",
    "    # get block list\n",
    "    block_list                = get_aln_block_list(path_to_fasta_aln, gap_char = gap_char, verbose = verbose)\n",
    "    block_df                  = pd.DataFrame([block_list]).T.rename({0: 'block_list'}, axis = 1)\n",
    "\n",
    "    # get stats length of each block and number of matched sites in block\n",
    "    block_df['blocklen']      = block_df['block_list'].apply(lambda x: len(x))\n",
    "    block_df['matched_sites'] = block_df['block_list'].apply(lambda x: [len(set(i)) == 1 for i in x].count(True))\n",
    "\n",
    "    block_df.insert(0, 'f_name', file_name)\n",
    "\n",
    "    block_df = block_df.drop('block_list', axis = 1)\n",
    "\n",
    "    return block_df\n",
    "#----------------------------------------------------------------------\n",
    "def get_aln_block_list(path_to_fasta_aln, gap_char = '-', verbose =  0): \n",
    "    \"\"\"outputs blocks of aligned sites (i.e groups of aligned sites that \n",
    "    do not containin a gap in any of the sample sequences.\n",
    "\n",
    "    for algorithm to get blocks, see get_blocks function.\n",
    "\n",
    "    parameters\n",
    "    ----------\n",
    "    path_to_fasta_aln: str\n",
    "     path to FASTA formatted alignment\n",
    "    gap_char: str\n",
    "        character that indicates gap presence\n",
    "    verbose : int 0,1,2\n",
    "        for debugging output\n",
    "\n",
    "    returns\n",
    "    -------\n",
    "    list\"\"\"\n",
    "\n",
    "    # read alignment as dataframe\n",
    "    aln_df = aln_to_df(path_to_fasta_aln, site_type = 'nucleotide').T\n",
    "    if verbose in [1,2]: \n",
    "        print('aln len: {}'.format(len(aln_df)))\n",
    "        if verbose == 2: \n",
    "            print('fetching list of aligned sites')\n",
    "    \n",
    "    # enlist nucleotides at each aligned site\n",
    "    aln_df['aln_sites'] = aln_df.apply(lambda x: tuple(x), axis = 1)\n",
    "    if verbose in [1,2]:\n",
    "        print('converting sites to list')\n",
    "\n",
    "    aln_sites = aln_df['aln_sites'].to_list()\n",
    "    if verbose in [1,2]:\n",
    "        print('getting aligned blocks')  \n",
    "    \n",
    "    # get aligned blocks\n",
    "    block_list = get_blocks(aln_sites, gap_char = gap_char)\n",
    "    if verbose in [1,2]:\n",
    "        print('block num: {}'.format(len(block_list)))\n",
    "\n",
    "    return block_list\n",
    "#------------------------------------------------------------------------\n",
    "def get_blocks(aln_sites_list, gap_char): \n",
    "    \"\"\"\"outputs blocks of aligned sites (i.e groups of aligned sites \n",
    "    that do not containin a gap in any of the sample sequences. \n",
    "\n",
    "    algorithm \n",
    "    ---------\n",
    "    creates list to store aligned sites for a block (block_var) and to store blocks (block_list_var)\n",
    "    loops over each aligned site\n",
    "        checks for gap char\n",
    "            if gap char exists, \n",
    "                appends any previous info to block_var\n",
    "                appends block_var to block_list_var\n",
    "                restart loop starting at next column\n",
    "            otherwise \n",
    "                appends aligned site to block_var\n",
    "        \n",
    "    parameters\n",
    "    ----------\n",
    "    aln_sites: list of tuples\n",
    "        each tuple corresponds to sample sequences for one aligned site\n",
    "        e.g. [(A, A, A)] would mean all sample sequences have 'A' at the \n",
    "        aligned site\n",
    "    gap_char: str\n",
    "        character that indicates a gap in the alignment\n",
    "    \n",
    "    returns \n",
    "    -------\n",
    "    list of lists\"\"\"\n",
    "\n",
    "    count  = 0  # to keep track of aln pos\n",
    "    blocks = [] # to store all blocks\n",
    "    block  = [] # to store one block\n",
    "\n",
    "    # loop over aligned sites\n",
    "    while count < len(aln_sites_list):\n",
    "        # extact aln site\n",
    "        aln_site = aln_sites_list[count]\n",
    "        # check for gap\n",
    "        if not gap_char in aln_site: \n",
    "            # if no gap, then append to block var\n",
    "            block.append(aln_site)\n",
    "        else:\n",
    "            # otherwise, check if block is empty \n",
    "            if not block == []: \n",
    "                blocks.append(block) # append block\n",
    "                block = []           # empty for next block\n",
    "        count+=1                     # increase count to move to next aln site\n",
    "\n",
    "    # after above process append remaining of alignment if (there's no gap)\n",
    "    if not block == []:\n",
    "        blocks.append(block)\n",
    "\n",
    "    return blocks"
   ]
  },
  {
   "cell_type": "markdown",
   "metadata": {},
   "source": [
    "#### Parameters"
   ]
  },
  {
   "cell_type": "code",
   "execution_count": 121,
   "metadata": {},
   "outputs": [],
   "source": [
    "path_to_xxx = '/Volumes/WDR_2TB_B_/clustalO_alns/230418/out_230417/clustalo_out/alns_cut_bad_matches/Dm_1756_vs_A0A6H2EDL7_p84.45_u50.87_0.35.faa'\n",
    "path_to_yyy = '/Volumes/WDR_2TB_B_/clustalO_alns/230418/out_230417/clustalo_out/alns_cut_bad_matches/Dm_357_vs_P41572_p99.79_u0.0_0.0.faa'\n",
    "gap_char    = '-'\n",
    "verbose     = 1"
   ]
  },
  {
   "cell_type": "code",
   "execution_count": 123,
   "metadata": {},
   "outputs": [
    {
     "name": "stdout",
     "output_type": "stream",
     "text": [
      "aln len: 481\n",
      "converting sites to list\n",
      "getting aligned blocks\n",
      "block num: 1\n"
     ]
    },
    {
     "data": {
      "text/html": [
       "<div>\n",
       "<style scoped>\n",
       "    .dataframe tbody tr th:only-of-type {\n",
       "        vertical-align: middle;\n",
       "    }\n",
       "\n",
       "    .dataframe tbody tr th {\n",
       "        vertical-align: top;\n",
       "    }\n",
       "\n",
       "    .dataframe thead th {\n",
       "        text-align: right;\n",
       "    }\n",
       "</style>\n",
       "<table border=\"1\" class=\"dataframe\">\n",
       "  <thead>\n",
       "    <tr style=\"text-align: right;\">\n",
       "      <th></th>\n",
       "      <th>f_name</th>\n",
       "      <th>blocklen</th>\n",
       "      <th>matched_sites</th>\n",
       "    </tr>\n",
       "  </thead>\n",
       "  <tbody>\n",
       "    <tr>\n",
       "      <th>0</th>\n",
       "      <td>Dm_357_vs_P41572_p99.79_u0.0_0.0.faa</td>\n",
       "      <td>481</td>\n",
       "      <td>480</td>\n",
       "    </tr>\n",
       "  </tbody>\n",
       "</table>\n",
       "</div>"
      ],
      "text/plain": [
       "                                 f_name  blocklen  matched_sites\n",
       "0  Dm_357_vs_P41572_p99.79_u0.0_0.0.faa       481            480"
      ]
     },
     "execution_count": 123,
     "metadata": {},
     "output_type": "execute_result"
    }
   ],
   "source": [
    "get_aln_block_stats(path_to_yyy, gap_char, 1)"
   ]
  },
  {
   "cell_type": "code",
   "execution_count": null,
   "metadata": {},
   "outputs": [],
   "source": []
  },
  {
   "cell_type": "code",
   "execution_count": null,
   "metadata": {},
   "outputs": [],
   "source": []
  },
  {
   "cell_type": "code",
   "execution_count": null,
   "metadata": {},
   "outputs": [],
   "source": []
  }
 ],
 "metadata": {
  "kernelspec": {
   "display_name": "Python 3.8.5 ('base')",
   "language": "python",
   "name": "python3"
  },
  "language_info": {
   "codemirror_mode": {
    "name": "ipython",
    "version": 3
   },
   "file_extension": ".py",
   "mimetype": "text/x-python",
   "name": "python",
   "nbconvert_exporter": "python",
   "pygments_lexer": "ipython3",
   "version": "3.8.5"
  },
  "orig_nbformat": 4,
  "vscode": {
   "interpreter": {
    "hash": "3b2aca7145e57e04a376b0dac092e6c1b945e322597ede3490dba3de48f1de7c"
   }
  }
 },
 "nbformat": 4,
 "nbformat_minor": 2
}
