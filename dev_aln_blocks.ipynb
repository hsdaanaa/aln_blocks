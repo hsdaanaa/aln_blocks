{
 "cells": [
  {
   "cell_type": "code",
   "execution_count": null,
   "metadata": {},
   "outputs": [],
   "source": []
  },
  {
   "cell_type": "code",
   "execution_count": null,
   "metadata": {},
   "outputs": [],
   "source": []
  },
  {
   "cell_type": "code",
   "execution_count": 2,
   "metadata": {},
   "outputs": [
    {
     "ename": "ModuleNotFoundError",
     "evalue": "No module named 'seq_funcs'",
     "output_type": "error",
     "traceback": [
      "\u001b[0;31m---------------------------------------------------------------------------\u001b[0m",
      "\u001b[0;31mModuleNotFoundError\u001b[0m                       Traceback (most recent call last)",
      "\u001b[0;32m<ipython-input-2-cdeac6c39467>\u001b[0m in \u001b[0;36m<module>\u001b[0;34m\u001b[0m\n\u001b[1;32m      1\u001b[0m \u001b[0;32mimport\u001b[0m \u001b[0msys\u001b[0m\u001b[0;34m,\u001b[0m \u001b[0mos\u001b[0m\u001b[0;34m,\u001b[0m \u001b[0mnumpy\u001b[0m \u001b[0;32mas\u001b[0m \u001b[0mnp\u001b[0m\u001b[0;34m,\u001b[0m \u001b[0mpandas\u001b[0m \u001b[0;32mas\u001b[0m \u001b[0mpd\u001b[0m\u001b[0;34m\u001b[0m\u001b[0;34m\u001b[0m\u001b[0m\n\u001b[1;32m      2\u001b[0m \u001b[0msys\u001b[0m\u001b[0;34m.\u001b[0m\u001b[0mpath\u001b[0m\u001b[0;34m.\u001b[0m\u001b[0mappend\u001b[0m\u001b[0;34m(\u001b[0m\u001b[0;34m'../../../02_codes/modules'\u001b[0m\u001b[0;34m)\u001b[0m\u001b[0;34m\u001b[0m\u001b[0;34m\u001b[0m\u001b[0m\n\u001b[0;32m----> 3\u001b[0;31m \u001b[0;32mfrom\u001b[0m \u001b[0mseq_funcs\u001b[0m \u001b[0;32mimport\u001b[0m \u001b[0mfasta_to_dict\u001b[0m\u001b[0;34m,\u001b[0m \u001b[0mget_codons\u001b[0m\u001b[0;34m,\u001b[0m \u001b[0maln_to_df\u001b[0m\u001b[0;34m\u001b[0m\u001b[0;34m\u001b[0m\u001b[0m\n\u001b[0m",
      "\u001b[0;31mModuleNotFoundError\u001b[0m: No module named 'seq_funcs'"
     ]
    }
   ],
   "source": [
    "import sys, os, numpy as np, pandas as pd\n",
    "sys.path.append('../../../02_codes/modules')\n",
    "from seq_funcs import fasta_to_dict, get_codons, aln_to_df"
   ]
  },
  {
   "cell_type": "code",
   "execution_count": 3,
   "metadata": {},
   "outputs": [
    {
     "ename": "NameError",
     "evalue": "name 's' is not defined",
     "output_type": "error",
     "traceback": [
      "\u001b[0;31m---------------------------------------------------------------------------\u001b[0m",
      "\u001b[0;31mNameError\u001b[0m                                 Traceback (most recent call last)",
      "\u001b[0;32m<ipython-input-3-6b8e7ffb8b62>\u001b[0m in \u001b[0;36m<module>\u001b[0;34m\u001b[0m\n\u001b[1;32m      1\u001b[0m \u001b[0mpath_to_xxx\u001b[0m \u001b[0;34m=\u001b[0m \u001b[0;34m'/Volumes/WDR_2TB_B_/clustalO_alns/230418/out_230417/clustalo_out/alns_cut_bad_matches/Dm_1756_vs_A0A6H2EDL7_p84.45_u50.87_0.35.faa'\u001b[0m\u001b[0;34m\u001b[0m\u001b[0;34m\u001b[0m\u001b[0m\n\u001b[1;32m      2\u001b[0m \u001b[0mpath_to_yyy\u001b[0m \u001b[0;34m=\u001b[0m \u001b[0;34m'/Volumes/WDR_2TB_B_/clustalO_alns/230418/out_230417/clustalo_out/alns_cut_bad_matches/Dm_357_vs_P41572_p99.79_u0.0_0.0.faa'\u001b[0m\u001b[0;34m\u001b[0m\u001b[0;34m\u001b[0m\u001b[0m\n\u001b[0;32m----> 3\u001b[0;31m \u001b[0ms\u001b[0m\u001b[0;34m\u001b[0m\u001b[0;34m\u001b[0m\u001b[0m\n\u001b[0m\u001b[1;32m      4\u001b[0m \u001b[0mverbose\u001b[0m     \u001b[0;34m=\u001b[0m \u001b[0;36m1\u001b[0m\u001b[0;34m\u001b[0m\u001b[0;34m\u001b[0m\u001b[0m\n",
      "\u001b[0;31mNameError\u001b[0m: name 's' is not defined"
     ]
    }
   ],
   "source": [
    "path_to_xxx = '/Volumes/WDR_2TB_B_/clustalO_alns/230418/out_230417/clustalo_out/alns_cut_bad_matches/Dm_1756_vs_A0A6H2EDL7_p84.45_u50.87_0.35.faa'\n",
    "path_to_yyy = '/Volumes/WDR_2TB_B_/clustalO_alns/230418/out_230417/clustalo_out/alns_cut_bad_matches/Dm_357_vs_P41572_p99.79_u0.0_0.0.faa'\n",
    "s\n",
    "verbose     = 1"
   ]
  },
  {
   "cell_type": "code",
   "execution_count": 41,
   "metadata": {},
   "outputs": [],
   "source": [
    "aln_dict = fasta_to_dict(path_to_yyy)"
   ]
  },
  {
   "cell_type": "code",
   "execution_count": 43,
   "metadata": {},
   "outputs": [
    {
     "data": {
      "text/plain": [
       "481"
      ]
     },
     "execution_count": 43,
     "metadata": {},
     "output_type": "execute_result"
    }
   ],
   "source": [
    "pair_up = list(zip(aln_dict['Dm_357'], aln_dict['P41572']))\n",
    "len(pair_up)"
   ]
  },
  {
   "cell_type": "code",
   "execution_count": null,
   "metadata": {},
   "outputs": [],
   "source": []
  },
  {
   "cell_type": "code",
   "execution_count": 44,
   "metadata": {},
   "outputs": [],
   "source": [
    "count  = 0\n",
    "blocks = []\n",
    "block  = []\n",
    "while count < len(pair_up):\n",
    "    pair = pair_up[count]\n",
    "    if not '-' in pair: \n",
    "        block.append(pair)\n",
    "    else:\n",
    "        if not block == []:\n",
    "            blocks.append(block)\n",
    "            block = []\n",
    "    count+=1\n",
    "\n",
    "if not block == []:\n",
    "    blocks.append(block)"
   ]
  },
  {
   "cell_type": "code",
   "execution_count": 45,
   "metadata": {},
   "outputs": [
    {
     "data": {
      "text/plain": [
       "1"
      ]
     },
     "execution_count": 45,
     "metadata": {},
     "output_type": "execute_result"
    }
   ],
   "source": [
    "len(blocks)"
   ]
  },
  {
   "cell_type": "code",
   "execution_count": 46,
   "metadata": {},
   "outputs": [
    {
     "name": "stdout",
     "output_type": "stream",
     "text": [
      "481\n"
     ]
    }
   ],
   "source": [
    "for block in blocks: \n",
    "    print(len(block))"
   ]
  },
  {
   "cell_type": "code",
   "execution_count": 39,
   "metadata": {},
   "outputs": [
    {
     "data": {
      "text/plain": [
       "242"
      ]
     },
     "execution_count": 39,
     "metadata": {},
     "output_type": "execute_result"
    }
   ],
   "source": [
    "def get_aln_blocks(aln_path, gap_char = '-', verbose = 0): \n",
    "\n",
    "    # read aln as dict\n",
    "    aln_dict = fasta_to_dict(path_to_yyy)\n",
    "    \n",
    "    \n",
    "    # algorithm to get blocks\n",
    "    "
   ]
  },
  {
   "cell_type": "code",
   "execution_count": null,
   "metadata": {},
   "outputs": [],
   "source": []
  }
 ],
 "metadata": {
  "kernelspec": {
   "display_name": "Python 3.8.5 ('base')",
   "language": "python",
   "name": "python3"
  },
  "language_info": {
   "codemirror_mode": {
    "name": "ipython",
    "version": 3
   },
   "file_extension": ".py",
   "mimetype": "text/x-python",
   "name": "python",
   "nbconvert_exporter": "python",
   "pygments_lexer": "ipython3",
   "version": "3.8.5"
  },
  "orig_nbformat": 4,
  "vscode": {
   "interpreter": {
    "hash": "3b2aca7145e57e04a376b0dac092e6c1b945e322597ede3490dba3de48f1de7c"
   }
  }
 },
 "nbformat": 4,
 "nbformat_minor": 2
}
